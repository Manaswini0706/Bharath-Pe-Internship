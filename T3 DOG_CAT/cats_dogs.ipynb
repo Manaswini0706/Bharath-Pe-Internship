{
 "cells": [
  {
   "cell_type": "markdown",
   "id": "6f9f7f48",
   "metadata": {},
   "source": [
    "# Importing Libraries"
   ]
  },
  {
   "cell_type": "code",
   "execution_count": 1,
   "id": "bbe37da7",
   "metadata": {},
   "outputs": [
    {
     "name": "stdout",
     "output_type": "stream",
     "text": [
      "WARNING:tensorflow:From C:\\Users\\girik\\anaconda3\\Lib\\site-packages\\keras\\src\\losses.py:2976: The name tf.losses.sparse_softmax_cross_entropy is deprecated. Please use tf.compat.v1.losses.sparse_softmax_cross_entropy instead.\n",
      "\n"
     ]
    }
   ],
   "source": [
    "import numpy as np\n",
    "import matplotlib.pyplot as plt\n",
    "from tensorflow import keras\n",
    "from tensorflow.keras.preprocessing.image import ImageDataGenerator\n",
    "from tensorflow.keras.models import *\n",
    "from tensorflow.keras.layers import *\n",
    "import os\n",
    "import random\n",
    "np.random.seed(0)"
   ]
  },
  {
   "cell_type": "code",
   "execution_count": 12,
   "id": "0e8e4fb6",
   "metadata": {},
   "outputs": [
    {
     "data": {
      "text/plain": [
       "'C:\\\\Users\\\\girik\\\\OneDrive\\\\Desktop\\\\INTERNSHIPS\\\\BHARATINTERN\\\\T3 DOG_CAT'"
      ]
     },
     "execution_count": 12,
     "metadata": {},
     "output_type": "execute_result"
    }
   ],
   "source": [
    "os.getcwd()"
   ]
  },
  {
   "cell_type": "code",
   "execution_count": 6,
   "id": "6b1b45f4",
   "metadata": {},
   "outputs": [],
   "source": [
    "directory = 'animal_images/'\n",
    "cat_directory = os.path.join(directory, 'Cat')\n",
    "dog_directory = os.path.join(directory, 'Dog')"
   ]
  },
  {
   "cell_type": "code",
   "execution_count": 13,
   "id": "47ea653b",
   "metadata": {},
   "outputs": [
    {
     "data": {
      "text/plain": [
       "'C:\\\\Users\\\\girik\\\\OneDrive\\\\Desktop\\\\INTERNSHIPS\\\\BHARATINTERN\\\\T3 DOG_CAT'"
      ]
     },
     "execution_count": 13,
     "metadata": {},
     "output_type": "execute_result"
    }
   ],
   "source": [
    "os.getcwd()"
   ]
  },
  {
   "cell_type": "markdown",
   "id": "2f86e5a0",
   "metadata": {},
   "source": [
    "# Loading and Shuffling Lists of Cat and Dog Images"
   ]
  },
  {
   "cell_type": "code",
   "execution_count": 16,
   "id": "4357e14d",
   "metadata": {},
   "outputs": [
    {
     "ename": "FileNotFoundError",
     "evalue": "[WinError 3] The system cannot find the path specified: 'animal_images/Cat'",
     "output_type": "error",
     "traceback": [
      "\u001b[1;31m---------------------------------------------------------------------------\u001b[0m",
      "\u001b[1;31mFileNotFoundError\u001b[0m                         Traceback (most recent call last)",
      "Cell \u001b[1;32mIn[16], line 1\u001b[0m\n\u001b[1;32m----> 1\u001b[0m cat_pics \u001b[38;5;241m=\u001b[39m os\u001b[38;5;241m.\u001b[39mlistdir(cat_directory)\n\u001b[0;32m      2\u001b[0m random\u001b[38;5;241m.\u001b[39mshuffle(cat_pics)\n\u001b[0;32m      4\u001b[0m dog_pics \u001b[38;5;241m=\u001b[39m os\u001b[38;5;241m.\u001b[39mlistdir(dog_directory)\n",
      "\u001b[1;31mFileNotFoundError\u001b[0m: [WinError 3] The system cannot find the path specified: 'animal_images/Cat'"
     ]
    }
   ],
   "source": [
    "cat_pics = os.listdir(cat_directory)\n",
    "random.shuffle(cat_pics)\n",
    "\n",
    "dog_pics = os.listdir(dog_directory)\n",
    "random.shuffle(dog_pics)"
   ]
  },
  {
   "cell_type": "markdown",
   "id": "9bf0c682",
   "metadata": {},
   "source": [
    "# Calculating Training Data Split for Cat and Dog Images"
   ]
  },
  {
   "cell_type": "code",
   "execution_count": 19,
   "id": "8c586e5a",
   "metadata": {},
   "outputs": [
    {
     "ename": "NameError",
     "evalue": "name 'cat_pics' is not defined",
     "output_type": "error",
     "traceback": [
      "\u001b[1;31m---------------------------------------------------------------------------\u001b[0m",
      "\u001b[1;31mNameError\u001b[0m                                 Traceback (most recent call last)",
      "Cell \u001b[1;32mIn[19], line 1\u001b[0m\n\u001b[1;32m----> 1\u001b[0m cat_train_data \u001b[38;5;241m=\u001b[39m \u001b[38;5;28mint\u001b[39m(\u001b[38;5;241m0.7\u001b[39m \u001b[38;5;241m*\u001b[39m \u001b[38;5;28mlen\u001b[39m(cat_pics))\n\u001b[0;32m      2\u001b[0m dog_train_data \u001b[38;5;241m=\u001b[39m \u001b[38;5;28mint\u001b[39m(\u001b[38;5;241m0.7\u001b[39m \u001b[38;5;241m*\u001b[39m \u001b[38;5;28mlen\u001b[39m(dog_pics))\n",
      "\u001b[1;31mNameError\u001b[0m: name 'cat_pics' is not defined"
     ]
    }
   ],
   "source": [
    "cat_train_data = int(0.7 * len(cat_pics))\n",
    "dog_train_data = int(0.7 * len(dog_pics))"
   ]
  },
  {
   "cell_type": "code",
   "execution_count": 20,
   "id": "de34a41d",
   "metadata": {},
   "outputs": [
    {
     "ename": "NameError",
     "evalue": "name 'cat_pics' is not defined",
     "output_type": "error",
     "traceback": [
      "\u001b[1;31m---------------------------------------------------------------------------\u001b[0m",
      "\u001b[1;31mNameError\u001b[0m                                 Traceback (most recent call last)",
      "Cell \u001b[1;32mIn[20], line 1\u001b[0m\n\u001b[1;32m----> 1\u001b[0m cat_train_pics, cat_test_pics \u001b[38;5;241m=\u001b[39m cat_pics[:cat_train_data], cat_pics[cat_train_data:]\n\u001b[0;32m      2\u001b[0m dog_train_pics, dog_test_pics \u001b[38;5;241m=\u001b[39m dog_pics[:dog_train_data], dog_pics[dog_train_data:]\n",
      "\u001b[1;31mNameError\u001b[0m: name 'cat_pics' is not defined"
     ]
    }
   ],
   "source": [
    "cat_train_pics, cat_test_pics = cat_pics[:cat_train_data], cat_pics[cat_train_data:]\n",
    "dog_train_pics, dog_test_pics = dog_pics[:dog_train_data], dog_pics[dog_train_data:]"
   ]
  },
  {
   "cell_type": "markdown",
   "id": "af5b42d9",
   "metadata": {},
   "source": [
    "# Creating Train and Test Directories for Image Classification Data"
   ]
  },
  {
   "cell_type": "code",
   "execution_count": 21,
   "id": "5d37bae9",
   "metadata": {},
   "outputs": [],
   "source": [
    "train_directory = os.path.join(directory, 'train')\n",
    "os.makedirs(train_directory, exist_ok=True)\n",
    "\n",
    "test_directory = os.path.join(directory, 'test')\n",
    "os.makedirs(test_directory, exist_ok=True)"
   ]
  },
  {
   "cell_type": "code",
   "execution_count": 22,
   "id": "5035a2d1",
   "metadata": {},
   "outputs": [
    {
     "ename": "NameError",
     "evalue": "name 'cat_train_pics' is not defined",
     "output_type": "error",
     "traceback": [
      "\u001b[1;31m---------------------------------------------------------------------------\u001b[0m",
      "\u001b[1;31mNameError\u001b[0m                                 Traceback (most recent call last)",
      "Cell \u001b[1;32mIn[22], line 1\u001b[0m\n\u001b[1;32m----> 1\u001b[0m \u001b[38;5;28;01mfor\u001b[39;00m pic \u001b[38;5;129;01min\u001b[39;00m cat_train_pics:\n\u001b[0;32m      2\u001b[0m     src_path \u001b[38;5;241m=\u001b[39m os\u001b[38;5;241m.\u001b[39mpath\u001b[38;5;241m.\u001b[39mjoin(cat_directory, file)\n\u001b[0;32m      3\u001b[0m     dst_path \u001b[38;5;241m=\u001b[39m os\u001b[38;5;241m.\u001b[39mpath\u001b[38;5;241m.\u001b[39mjoin(train_directory, \u001b[38;5;124m'\u001b[39m\u001b[38;5;124mcat\u001b[39m\u001b[38;5;124m'\u001b[39m, file)\n",
      "\u001b[1;31mNameError\u001b[0m: name 'cat_train_pics' is not defined"
     ]
    }
   ],
   "source": [
    "for pic in cat_train_pics:\n",
    "    src_path = os.path.join(cat_directory, file)\n",
    "    dst_path = os.path.join(train_directory, 'cat', file)\n",
    "    os.makedirs(os.path.dirname(dst_path), exist_ok=True)\n",
    "    os.rename(src_path, dst_path)"
   ]
  },
  {
   "cell_type": "code",
   "execution_count": 23,
   "id": "0fdaae8b",
   "metadata": {},
   "outputs": [
    {
     "ename": "NameError",
     "evalue": "name 'dog_train_pics' is not defined",
     "output_type": "error",
     "traceback": [
      "\u001b[1;31m---------------------------------------------------------------------------\u001b[0m",
      "\u001b[1;31mNameError\u001b[0m                                 Traceback (most recent call last)",
      "Cell \u001b[1;32mIn[23], line 1\u001b[0m\n\u001b[1;32m----> 1\u001b[0m \u001b[38;5;28;01mfor\u001b[39;00m pic \u001b[38;5;129;01min\u001b[39;00m dog_train_pics:\n\u001b[0;32m      2\u001b[0m     src_path \u001b[38;5;241m=\u001b[39m os\u001b[38;5;241m.\u001b[39mpath\u001b[38;5;241m.\u001b[39mjoin(dog_directory, file)\n\u001b[0;32m      3\u001b[0m     dst_path \u001b[38;5;241m=\u001b[39m os\u001b[38;5;241m.\u001b[39mpath\u001b[38;5;241m.\u001b[39mjoin(train_directory, \u001b[38;5;124m'\u001b[39m\u001b[38;5;124mdog\u001b[39m\u001b[38;5;124m'\u001b[39m, file)\n",
      "\u001b[1;31mNameError\u001b[0m: name 'dog_train_pics' is not defined"
     ]
    }
   ],
   "source": [
    "for pic in dog_train_pics:\n",
    "    src_path = os.path.join(dog_directory, file)\n",
    "    dst_path = os.path.join(train_directory, 'dog', file)\n",
    "    os.makedirs(os.path.dirname(dst_path), exist_ok=True)\n",
    "    os.rename(src_path, dst_path)"
   ]
  },
  {
   "cell_type": "code",
   "execution_count": 24,
   "id": "8fd62398",
   "metadata": {},
   "outputs": [
    {
     "ename": "NameError",
     "evalue": "name 'cat_test_pics' is not defined",
     "output_type": "error",
     "traceback": [
      "\u001b[1;31m---------------------------------------------------------------------------\u001b[0m",
      "\u001b[1;31mNameError\u001b[0m                                 Traceback (most recent call last)",
      "Cell \u001b[1;32mIn[24], line 1\u001b[0m\n\u001b[1;32m----> 1\u001b[0m \u001b[38;5;28;01mfor\u001b[39;00m file \u001b[38;5;129;01min\u001b[39;00m cat_test_pics:\n\u001b[0;32m      2\u001b[0m     src_path \u001b[38;5;241m=\u001b[39m os\u001b[38;5;241m.\u001b[39mpath\u001b[38;5;241m.\u001b[39mjoin(cat_directory, file)\n\u001b[0;32m      3\u001b[0m     dst_path \u001b[38;5;241m=\u001b[39m os\u001b[38;5;241m.\u001b[39mpath\u001b[38;5;241m.\u001b[39mjoin(test_directory, \u001b[38;5;124m'\u001b[39m\u001b[38;5;124mcat\u001b[39m\u001b[38;5;124m'\u001b[39m, file)\n",
      "\u001b[1;31mNameError\u001b[0m: name 'cat_test_pics' is not defined"
     ]
    }
   ],
   "source": [
    "for file in cat_test_pics:\n",
    "    src_path = os.path.join(cat_directory, file)\n",
    "    dst_path = os.path.join(test_directory, 'cat', file)\n",
    "    os.makedirs(os.path.dirname(dst_path), exist_ok=True)\n",
    "    os.rename(src_path, dst_path)"
   ]
  },
  {
   "cell_type": "code",
   "execution_count": 25,
   "id": "79f65c3b",
   "metadata": {},
   "outputs": [
    {
     "ename": "NameError",
     "evalue": "name 'dog_test_pics' is not defined",
     "output_type": "error",
     "traceback": [
      "\u001b[1;31m---------------------------------------------------------------------------\u001b[0m",
      "\u001b[1;31mNameError\u001b[0m                                 Traceback (most recent call last)",
      "Cell \u001b[1;32mIn[25], line 1\u001b[0m\n\u001b[1;32m----> 1\u001b[0m \u001b[38;5;28;01mfor\u001b[39;00m file \u001b[38;5;129;01min\u001b[39;00m dog_test_pics:\n\u001b[0;32m      2\u001b[0m     src_path \u001b[38;5;241m=\u001b[39m os\u001b[38;5;241m.\u001b[39mpath\u001b[38;5;241m.\u001b[39mjoin(dog_directory, file)\n\u001b[0;32m      3\u001b[0m     dst_path \u001b[38;5;241m=\u001b[39m os\u001b[38;5;241m.\u001b[39mpath\u001b[38;5;241m.\u001b[39mjoin(test_directory, \u001b[38;5;124m'\u001b[39m\u001b[38;5;124mdog\u001b[39m\u001b[38;5;124m'\u001b[39m, file)\n",
      "\u001b[1;31mNameError\u001b[0m: name 'dog_test_pics' is not defined"
     ]
    }
   ],
   "source": [
    "for file in dog_test_pics:\n",
    "    src_path = os.path.join(dog_directory, file)\n",
    "    dst_path = os.path.join(test_directory, 'dog', file)\n",
    "    os.makedirs(os.path.dirname(dst_path), exist_ok=True)\n",
    "    os.rename(src_path, dst_path)"
   ]
  },
  {
   "cell_type": "markdown",
   "id": "c0368647",
   "metadata": {},
   "source": [
    "# Data Flow Setup for Training and Testing"
   ]
  },
  {
   "cell_type": "code",
   "execution_count": 26,
   "id": "2aa5f1e7",
   "metadata": {},
   "outputs": [],
   "source": [
    "train_data_generate = ImageDataGenerator(\n",
    "    rescale=1./255,\n",
    "    shear_range=0.2,\n",
    "    zoom_range=0.2,\n",
    "    horizontal_flip=True\n",
    ")\n",
    "\n",
    "test_data_generate = ImageDataGenerator(rescale=1./255)"
   ]
  },
  {
   "cell_type": "code",
   "execution_count": 27,
   "id": "38658855",
   "metadata": {},
   "outputs": [
    {
     "name": "stdout",
     "output_type": "stream",
     "text": [
      "Found 0 images belonging to 0 classes.\n",
      "Found 0 images belonging to 0 classes.\n"
     ]
    }
   ],
   "source": [
    "train_generator = train_data_generate.flow_from_directory(\n",
    "    train_directory,\n",
    "    target_size=(150, 150),\n",
    "    batch_size=32,\n",
    "    class_mode='binary'\n",
    ")\n",
    "\n",
    "test_generator = test_data_generate.flow_from_directory(\n",
    "    test_directory,\n",
    "    target_size=(150, 150),\n",
    "    batch_size=32,\n",
    "    class_mode='binary'\n",
    ")"
   ]
  },
  {
   "cell_type": "markdown",
   "id": "b1b95224",
   "metadata": {},
   "source": [
    "# Simple CNN Model"
   ]
  },
  {
   "cell_type": "code",
   "execution_count": 28,
   "id": "83da30c1",
   "metadata": {},
   "outputs": [
    {
     "name": "stdout",
     "output_type": "stream",
     "text": [
      "WARNING:tensorflow:From C:\\Users\\girik\\anaconda3\\Lib\\site-packages\\keras\\src\\backend.py:873: The name tf.get_default_graph is deprecated. Please use tf.compat.v1.get_default_graph instead.\n",
      "\n",
      "WARNING:tensorflow:From C:\\Users\\girik\\anaconda3\\Lib\\site-packages\\keras\\src\\layers\\pooling\\max_pooling2d.py:161: The name tf.nn.max_pool is deprecated. Please use tf.nn.max_pool2d instead.\n",
      "\n"
     ]
    }
   ],
   "source": [
    "model = Sequential()\n",
    "model.add(Conv2D(32, (3, 3), activation='relu', input_shape=(150, 150, 3)))\n",
    "model.add(MaxPooling2D(2, 2))\n",
    "model.add(Conv2D(64, (3, 3), activation='relu'))\n",
    "model.add(MaxPooling2D(2, 2))\n",
    "model.add(Flatten())\n",
    "model.add(Dense(512, activation='relu'))\n",
    "model.add(Dense(1, activation='sigmoid'))"
   ]
  },
  {
   "cell_type": "markdown",
   "id": "2d9dc16f",
   "metadata": {},
   "source": [
    "# Compiling the Neural Network Model "
   ]
  },
  {
   "cell_type": "code",
   "execution_count": 29,
   "id": "402b09be",
   "metadata": {},
   "outputs": [
    {
     "name": "stdout",
     "output_type": "stream",
     "text": [
      "WARNING:tensorflow:From C:\\Users\\girik\\anaconda3\\Lib\\site-packages\\keras\\src\\optimizers\\__init__.py:309: The name tf.train.Optimizer is deprecated. Please use tf.compat.v1.train.Optimizer instead.\n",
      "\n"
     ]
    }
   ],
   "source": [
    "model.compile(optimizer='adam', loss='binary_crossentropy', metrics=['accuracy'])"
   ]
  },
  {
   "cell_type": "code",
   "execution_count": 30,
   "id": "b567c8b6",
   "metadata": {},
   "outputs": [
    {
     "ename": "ValueError",
     "evalue": "Unexpected value for `steps_per_epoch`. Received value is 0. Please check the docstring for `model.fit()` for supported values.",
     "output_type": "error",
     "traceback": [
      "\u001b[1;31m---------------------------------------------------------------------------\u001b[0m",
      "\u001b[1;31mValueError\u001b[0m                                Traceback (most recent call last)",
      "Cell \u001b[1;32mIn[30], line 1\u001b[0m\n\u001b[1;32m----> 1\u001b[0m history \u001b[38;5;241m=\u001b[39m model\u001b[38;5;241m.\u001b[39mfit(\n\u001b[0;32m      2\u001b[0m     train_generator,\n\u001b[0;32m      3\u001b[0m     steps_per_epoch\u001b[38;5;241m=\u001b[39m\u001b[38;5;28mlen\u001b[39m(train_generator),\n\u001b[0;32m      4\u001b[0m     epochs\u001b[38;5;241m=\u001b[39m\u001b[38;5;241m10\u001b[39m,\n\u001b[0;32m      5\u001b[0m     validation_data\u001b[38;5;241m=\u001b[39mtest_generator,\n\u001b[0;32m      6\u001b[0m     validation_steps\u001b[38;5;241m=\u001b[39m\u001b[38;5;28mlen\u001b[39m(test_generator)\n\u001b[0;32m      7\u001b[0m )\n\u001b[0;32m     10\u001b[0m plt\u001b[38;5;241m.\u001b[39mfigure(figsize\u001b[38;5;241m=\u001b[39m(\u001b[38;5;241m12\u001b[39m, \u001b[38;5;241m4\u001b[39m))\n",
      "File \u001b[1;32m~\\anaconda3\\Lib\\site-packages\\keras\\src\\utils\\traceback_utils.py:70\u001b[0m, in \u001b[0;36mfilter_traceback.<locals>.error_handler\u001b[1;34m(*args, **kwargs)\u001b[0m\n\u001b[0;32m     67\u001b[0m     filtered_tb \u001b[38;5;241m=\u001b[39m _process_traceback_frames(e\u001b[38;5;241m.\u001b[39m__traceback__)\n\u001b[0;32m     68\u001b[0m     \u001b[38;5;66;03m# To get the full stack trace, call:\u001b[39;00m\n\u001b[0;32m     69\u001b[0m     \u001b[38;5;66;03m# `tf.debugging.disable_traceback_filtering()`\u001b[39;00m\n\u001b[1;32m---> 70\u001b[0m     \u001b[38;5;28;01mraise\u001b[39;00m e\u001b[38;5;241m.\u001b[39mwith_traceback(filtered_tb) \u001b[38;5;28;01mfrom\u001b[39;00m \u001b[38;5;28;01mNone\u001b[39;00m\n\u001b[0;32m     71\u001b[0m \u001b[38;5;28;01mfinally\u001b[39;00m:\n\u001b[0;32m     72\u001b[0m     \u001b[38;5;28;01mdel\u001b[39;00m filtered_tb\n",
      "File \u001b[1;32m~\\anaconda3\\Lib\\site-packages\\keras\\src\\engine\\data_adapter.py:1275\u001b[0m, in \u001b[0;36mDataHandler.__init__\u001b[1;34m(self, x, y, sample_weight, batch_size, steps_per_epoch, initial_epoch, epochs, shuffle, class_weight, max_queue_size, workers, use_multiprocessing, model, steps_per_execution, distribute, pss_evaluation_shards)\u001b[0m\n\u001b[0;32m   1272\u001b[0m \u001b[38;5;28mself\u001b[39m\u001b[38;5;241m.\u001b[39m_model \u001b[38;5;241m=\u001b[39m model\n\u001b[0;32m   1274\u001b[0m \u001b[38;5;28;01mif\u001b[39;00m steps_per_epoch \u001b[38;5;241m==\u001b[39m \u001b[38;5;241m0\u001b[39m:\n\u001b[1;32m-> 1275\u001b[0m     \u001b[38;5;28;01mraise\u001b[39;00m \u001b[38;5;167;01mValueError\u001b[39;00m(\n\u001b[0;32m   1276\u001b[0m         \u001b[38;5;124m\"\u001b[39m\u001b[38;5;124mUnexpected value for `steps_per_epoch`. Received value is 0. \u001b[39m\u001b[38;5;124m\"\u001b[39m\n\u001b[0;32m   1277\u001b[0m         \u001b[38;5;124m\"\u001b[39m\u001b[38;5;124mPlease check the docstring for `model.fit()` for supported \u001b[39m\u001b[38;5;124m\"\u001b[39m\n\u001b[0;32m   1278\u001b[0m         \u001b[38;5;124m\"\u001b[39m\u001b[38;5;124mvalues.\u001b[39m\u001b[38;5;124m\"\u001b[39m\n\u001b[0;32m   1279\u001b[0m     )\n\u001b[0;32m   1281\u001b[0m \u001b[38;5;28mself\u001b[39m\u001b[38;5;241m.\u001b[39m_steps_per_epoch \u001b[38;5;241m=\u001b[39m steps_per_epoch\n\u001b[0;32m   1283\u001b[0m \u001b[38;5;66;03m# `steps_per_execution_value` is the cached initial value.\u001b[39;00m\n\u001b[0;32m   1284\u001b[0m \u001b[38;5;66;03m# `steps_per_execution` is mutable and may be changed by the DataAdapter\u001b[39;00m\n\u001b[0;32m   1285\u001b[0m \u001b[38;5;66;03m# to handle partial executions.\u001b[39;00m\n",
      "\u001b[1;31mValueError\u001b[0m: Unexpected value for `steps_per_epoch`. Received value is 0. Please check the docstring for `model.fit()` for supported values."
     ]
    }
   ],
   "source": [
    "history = model.fit(\n",
    "    train_generator,\n",
    "    steps_per_epoch=len(train_generator),\n",
    "    epochs=10,\n",
    "    validation_data=test_generator,\n",
    "    validation_steps=len(test_generator)\n",
    ")\n",
    "\n",
    "\n",
    "plt.figure(figsize=(12, 4))"
   ]
  },
  {
   "cell_type": "code",
   "execution_count": null,
   "id": "bece87a7",
   "metadata": {},
   "outputs": [],
   "source": [
    "plt.plot(history.history['loss'])\n",
    "plt.plot(history.history['val_loss'])\n",
    "plt.title('Model loss')\n",
    "plt.legend(['Train', 'Validation'], loc='upper right')\n",
    "plt.show()"
   ]
  },
  {
   "cell_type": "code",
   "execution_count": null,
   "id": "fcb7b784",
   "metadata": {},
   "outputs": [],
   "source": [
    "plt.plot(history.history['accuracy'])\n",
    "plt.plot(history.history['val_accuracy'])\n",
    "plt.title('Model accuracy')\n",
    "plt.legend(['Train', 'Validate'], loc='upper right')\n",
    "plt.show()"
   ]
  },
  {
   "cell_type": "code",
   "execution_count": null,
   "id": "d774939c",
   "metadata": {},
   "outputs": [],
   "source": [
    "score = model.evaluate(test_generator, steps=len(test_generator))\n",
    "print(\"Test Loss:\", score[0])\n",
    "print(\"Test Accuracy:\", score[1])"
   ]
  },
  {
   "cell_type": "markdown",
   "id": "fc80322d",
   "metadata": {},
   "source": [
    "# Image Prediction "
   ]
  },
  {
   "cell_type": "code",
   "execution_count": 9,
   "id": "50382514",
   "metadata": {
    "scrolled": false
   },
   "outputs": [],
   "source": [
    "from tensorflow.keras.preprocessing import image\n",
    "import matplotlib.image as pltimg\n",
    "def predict_new_image(img):\n",
    "    img_path = img\n",
    "    img = image.load_img(img_path, target_size=(150, 150))\n",
    "    img_array = image.img_to_array(img)\n",
    "    img_array = np.expand_dims(img_array, axis=0)\n",
    "    img_array /= 255.0\n",
    "    prediction = model.predict(img_array)\n",
    "    img = pltimg.imread(img_path)\n",
    "    plt.imshow(img)\n",
    "    if prediction[0][0] > 0.5:\n",
    "        plt.title(\"Dog\")\n",
    "    else:\n",
    "        plt.title(\"Cat\")\n",
    "    plt.show()"
   ]
  },
  {
   "cell_type": "code",
   "execution_count": 10,
   "id": "68cce4e6",
   "metadata": {},
   "outputs": [
    {
     "data": {
      "text/plain": [
       "'C:\\\\Users\\\\girik\\\\OneDrive\\\\Desktop\\\\INTERNSHIPS\\\\BHARATINTERN\\\\T3 DOG_CAT'"
      ]
     },
     "execution_count": 10,
     "metadata": {},
     "output_type": "execute_result"
    }
   ],
   "source": [
    "os.getcwd()\n"
   ]
  },
  {
   "cell_type": "code",
   "execution_count": 11,
   "id": "b0ab5e37",
   "metadata": {},
   "outputs": [
    {
     "ename": "FileNotFoundError",
     "evalue": "[Errno 2] No such file or directory: 'CATS_DOGS/test/dog/dog_10022.jpg'",
     "output_type": "error",
     "traceback": [
      "\u001b[1;31m---------------------------------------------------------------------------\u001b[0m",
      "\u001b[1;31mFileNotFoundError\u001b[0m                         Traceback (most recent call last)",
      "Cell \u001b[1;32mIn[11], line 1\u001b[0m\n\u001b[1;32m----> 1\u001b[0m predict_new_image(\u001b[38;5;124m\"\u001b[39m\u001b[38;5;124mCATS_DOGS/test/dog/dog_10022.jpg\u001b[39m\u001b[38;5;124m\"\u001b[39m)\n",
      "Cell \u001b[1;32mIn[9], line 5\u001b[0m, in \u001b[0;36mpredict_new_image\u001b[1;34m(img)\u001b[0m\n\u001b[0;32m      3\u001b[0m \u001b[38;5;28;01mdef\u001b[39;00m \u001b[38;5;21mpredict_new_image\u001b[39m(img):\n\u001b[0;32m      4\u001b[0m     img_path \u001b[38;5;241m=\u001b[39m img\n\u001b[1;32m----> 5\u001b[0m     img \u001b[38;5;241m=\u001b[39m image\u001b[38;5;241m.\u001b[39mload_img(img_path, target_size\u001b[38;5;241m=\u001b[39m(\u001b[38;5;241m150\u001b[39m, \u001b[38;5;241m150\u001b[39m))\n\u001b[0;32m      6\u001b[0m     img_array \u001b[38;5;241m=\u001b[39m image\u001b[38;5;241m.\u001b[39mimg_to_array(img)\n\u001b[0;32m      7\u001b[0m     img_array \u001b[38;5;241m=\u001b[39m np\u001b[38;5;241m.\u001b[39mexpand_dims(img_array, axis\u001b[38;5;241m=\u001b[39m\u001b[38;5;241m0\u001b[39m)\n",
      "File \u001b[1;32m~\\anaconda3\\Lib\\site-packages\\keras\\src\\utils\\image_utils.py:422\u001b[0m, in \u001b[0;36mload_img\u001b[1;34m(path, grayscale, color_mode, target_size, interpolation, keep_aspect_ratio)\u001b[0m\n\u001b[0;32m    420\u001b[0m     \u001b[38;5;28;01mif\u001b[39;00m \u001b[38;5;28misinstance\u001b[39m(path, pathlib\u001b[38;5;241m.\u001b[39mPath):\n\u001b[0;32m    421\u001b[0m         path \u001b[38;5;241m=\u001b[39m \u001b[38;5;28mstr\u001b[39m(path\u001b[38;5;241m.\u001b[39mresolve())\n\u001b[1;32m--> 422\u001b[0m     \u001b[38;5;28;01mwith\u001b[39;00m \u001b[38;5;28mopen\u001b[39m(path, \u001b[38;5;124m\"\u001b[39m\u001b[38;5;124mrb\u001b[39m\u001b[38;5;124m\"\u001b[39m) \u001b[38;5;28;01mas\u001b[39;00m f:\n\u001b[0;32m    423\u001b[0m         img \u001b[38;5;241m=\u001b[39m pil_image\u001b[38;5;241m.\u001b[39mopen(io\u001b[38;5;241m.\u001b[39mBytesIO(f\u001b[38;5;241m.\u001b[39mread()))\n\u001b[0;32m    424\u001b[0m \u001b[38;5;28;01melse\u001b[39;00m:\n",
      "\u001b[1;31mFileNotFoundError\u001b[0m: [Errno 2] No such file or directory: 'CATS_DOGS/test/dog/dog_10022.jpg'"
     ]
    }
   ],
   "source": [
    "predict_new_image(\"CATS_DOGS/test/dog/dog_10022.jpg\")"
   ]
  },
  {
   "cell_type": "code",
   "execution_count": null,
   "id": "2572cea8",
   "metadata": {},
   "outputs": [],
   "source": [
    "predict_new_image(\"animal_images/testerImg\")"
   ]
  },
  {
   "cell_type": "code",
   "execution_count": null,
   "id": "58ca7af6",
   "metadata": {},
   "outputs": [],
   "source": [
    "predict_new_image(\"animal_images/test/cats/cat_106.jpg\")"
   ]
  }
 ],
 "metadata": {
  "kernelspec": {
   "display_name": "Python 3 (ipykernel)",
   "language": "python",
   "name": "python3"
  },
  "language_info": {
   "codemirror_mode": {
    "name": "ipython",
    "version": 3
   },
   "file_extension": ".py",
   "mimetype": "text/x-python",
   "name": "python",
   "nbconvert_exporter": "python",
   "pygments_lexer": "ipython3",
   "version": "3.11.5"
  }
 },
 "nbformat": 4,
 "nbformat_minor": 5
}
